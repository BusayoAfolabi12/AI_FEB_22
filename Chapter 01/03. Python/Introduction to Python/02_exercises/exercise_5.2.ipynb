{
 "cells": [
  {
   "cell_type": "markdown",
   "metadata": {},
   "source": [
    "**Exercise 5.2:** Write and test three functions that return the largest, the smallest, and the number of dividables by 3 in a given collection of numbers. Use the algorithm described earlier in the Part 5 lecture :)"
   ]
  },
  {
   "cell_type": "code",
   "execution_count": 13,
   "metadata": {},
   "outputs": [
    {
     "name": "stdout",
     "output_type": "stream",
     "text": [
      "100\n",
      "2\n",
      "6\n",
      "12\n",
      "15\n",
      "99\n"
     ]
    }
   ],
   "source": [
    "# Your functions\n",
    "a = [2, 4, 6, 12, 15, 99, 100]\n",
    "def maximum_num():\n",
    "    for x in a:\n",
    "        x = max(a)\n",
    "        print(x)\n",
    "        return\n",
    "\n",
    "def minimum_num():\n",
    "    for x in a:\n",
    "        x = min(a)\n",
    "        print(x)\n",
    "        return\n",
    "\n",
    "def dividable_by_3():\n",
    "    for x in a:\n",
    "        if x%3 == 0:\n",
    "            print(x)\n",
    "            #return\n",
    "        \n",
    "        \n",
    "\n",
    "maximum_num()\n",
    "minimum_num()\n",
    "dividable_by_3()\n"
   ]
  }
 ],
 "metadata": {
  "interpreter": {
   "hash": "511f5f779e2631a2a5ab62f662bac40efa98ba034f0a10d52d91aa76b4930c87"
  },
  "kernelspec": {
   "display_name": "Python 3.8.12 ('Strivenew')",
   "language": "python",
   "name": "python3"
  },
  "language_info": {
   "codemirror_mode": {
    "name": "ipython",
    "version": 3
   },
   "file_extension": ".py",
   "mimetype": "text/x-python",
   "name": "python",
   "nbconvert_exporter": "python",
   "pygments_lexer": "ipython3",
   "version": "3.8.12"
  },
  "orig_nbformat": 4
 },
 "nbformat": 4,
 "nbformat_minor": 2
}
