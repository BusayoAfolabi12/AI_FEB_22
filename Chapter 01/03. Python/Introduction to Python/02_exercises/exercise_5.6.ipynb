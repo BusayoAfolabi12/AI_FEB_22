{
 "cells": [
  {
   "cell_type": "markdown",
   "metadata": {},
   "source": [
    "**Exercise 5.6 (🌶️🌶️):** A prime number is a positive integer that is dividable by exactly two different numbers, namely 1 and itself. The lowest (and only even) prime number is 2. The first 10 prime numbers are 2, 3, 5, 7, 11, 13, 17, 19, 23, and 29. Write a function that returns a **list off all prime numbers** below a given number.\n",
    "\n",
    "Hint: In a loop where you test the possible dividers of the number, you can conclude that the number is not prime as soon as you encounter a number other than 1 or the number itself that divides it. However, you can *only* conclude that it actually *is* prime after you have tested all possible dividers.\n",
    "\n",
    "**What is the challenge here? You have to try to optimize your code and try to make it work for the highest prime number you can encounter before you run out of memory. For low numbers you should know how to do it already**"
   ]
  },
  {
   "cell_type": "code",
   "execution_count": 34,
   "metadata": {},
   "outputs": [
    {
     "name": "stdout",
     "output_type": "stream",
     "text": [
      "2\n",
      "3\n",
      "5\n",
      "7\n",
      "11\n",
      "13\n",
      "17\n",
      "19\n"
     ]
    }
   ],
   "source": [
    "#Paartial solution#\n",
    "\n",
    "# def prime_numbers(x):\n",
    "#     prime = []\n",
    "\n",
    "def prime_number(num):\n",
    "    prime = []\n",
    "    for  x in range(num):\n",
    "        if x > 1:\n",
    "            for i in range(2, x):\n",
    "                if x%i == 0:\n",
    "                    break\n",
    "            else: \n",
    "                print(x)\n",
    "\n",
    "\n",
    "\n",
    "\n",
    "        \n",
    "    \n",
    "\n",
    "prime_number(20)"
   ]
  }
 ],
 "metadata": {
  "interpreter": {
   "hash": "511f5f779e2631a2a5ab62f662bac40efa98ba034f0a10d52d91aa76b4930c87"
  },
  "kernelspec": {
   "display_name": "Python 3.8.12 ('Strivenew')",
   "language": "python",
   "name": "python3"
  },
  "language_info": {
   "codemirror_mode": {
    "name": "ipython",
    "version": 3
   },
   "file_extension": ".py",
   "mimetype": "text/x-python",
   "name": "python",
   "nbconvert_exporter": "python",
   "pygments_lexer": "ipython3",
   "version": "3.8.12"
  },
  "orig_nbformat": 4
 },
 "nbformat": 4,
 "nbformat_minor": 2
}
