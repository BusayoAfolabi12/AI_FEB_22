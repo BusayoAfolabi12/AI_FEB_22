{
 "cells": [
  {
   "cell_type": "markdown",
   "metadata": {},
   "source": [
    "**Exercise 6.3:** In the text below, count how often the word \"wood\" occurs (using program code, of course). Capitals and lower case letters may both be used, and you have to consider that the word \"wood\" should be a separate word, and not part of another word. Hint: If you did the exercises from this chapter, you already developed a function that \"cleans\" a text. Combining that function with the `split()` function more or less solves the problem for you."
   ]
  },
  {
   "cell_type": "code",
   "execution_count": 19,
   "metadata": {},
   "outputs": [
    {
     "name": "stdout",
     "output_type": "stream",
     "text": [
      "how much wood would a woodchuck chuck if a woodchuck could chuck wood  he would chuck  he would  as much as he could  and chuck as much as a woodchuck would if a mr  smith could chuck wood    \n"
     ]
    },
    {
     "data": {
      "text/plain": [
       "3"
      ]
     },
     "execution_count": 19,
     "metadata": {},
     "output_type": "execute_result"
    }
   ],
   "source": [
    "#########\n",
    "# Counting wood.\n",
    "text = \"\"\"How much wood would a woodchuck chuck\n",
    "If a woodchuck could chuck wood?\n",
    "He would chuck, he would, as much as he could,\n",
    "And chuck as much as a woodchuck would\n",
    "If a Mr. Smith could chuck wood\\n\\r\\t.\"\"\"\n",
    "\n",
    "# def wood_counter(new_text):\n",
    "\n",
    "#     text = text.replace(\"\\n\",\" \")\n",
    "#     text = text.replace(\"\\r\",\"\")\n",
    "#     text = text.replace(\"\\t\",\"\")\n",
    "#     text = text.replace(\"?\",\" \")\n",
    "#     text = text.replace(\".\",\"\")\n",
    "#     text = text.replace(\",\",\"\")\n",
    "#     text = text.lower()\n",
    "#     new_text = text.split()\n",
    "#     print(new_text.count(\"wood\"))\n",
    "\n",
    "# Print the text as a list #\n",
    "def wood_counter(string):\n",
    "    new_string = ''\n",
    "    string = string.lower()\n",
    "    for el in string:\n",
    "        if el >= 'a' and el <= 'z':\n",
    "            new_string += el\n",
    "        else: new_string += ' '\n",
    "    print(new_string)\n",
    "\n",
    "# Count the number of \"wood\" in text ####\n",
    "    count = 0\n",
    "    for word in new_string.split():\n",
    "        if word == \"wood\":\n",
    "            count += 1\n",
    "    return count\n",
    "\n",
    "wood_counter(text)"
   ]
  }
 ],
 "metadata": {
  "interpreter": {
   "hash": "511f5f779e2631a2a5ab62f662bac40efa98ba034f0a10d52d91aa76b4930c87"
  },
  "kernelspec": {
   "display_name": "Python 3.8.12 ('Strivenew')",
   "language": "python",
   "name": "python3"
  },
  "language_info": {
   "codemirror_mode": {
    "name": "ipython",
    "version": 3
   },
   "file_extension": ".py",
   "mimetype": "text/x-python",
   "name": "python",
   "nbconvert_exporter": "python",
   "pygments_lexer": "ipython3",
   "version": "3.8.12"
  },
  "orig_nbformat": 4
 },
 "nbformat": 4,
 "nbformat_minor": 2
}
